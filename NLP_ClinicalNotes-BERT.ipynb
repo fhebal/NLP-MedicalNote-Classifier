{
 "cells": [
  {
   "cell_type": "code",
   "execution_count": 3,
   "metadata": {},
   "outputs": [
    {
     "name": "stdout",
     "output_type": "stream",
     "text": [
      "2.4.0\n"
     ]
    }
   ],
   "source": [
    "import os\n",
    "import shutil\n",
    "\n",
    "import tensorflow as tf\n",
    "import tensorflow_hub as hub\n",
    "import tensorflow_text as text\n",
    "from official.nlp import optimization  # to create AdamW optmizer\n",
    "\n",
    "import matplotlib.pyplot as plt\n",
    "\n",
    "tf.get_logger().setLevel('ERROR')\n",
    "print(tf.__version__)"
   ]
  },
  {
   "cell_type": "code",
   "execution_count": 161,
   "metadata": {},
   "outputs": [],
   "source": [
    "url = 'https://ai.stanford.edu/~amaas/data/sentiment/aclImdb_v1.tar.gz'\n",
    "\n",
    "dataset = tf.keras.utils.get_file('aclImdb_v1.tar.gz', url,\n",
    "                                  untar=True, cache_dir='.',\n",
    "                                  cache_subdir='')\n",
    "\n",
    "dataset_dir = os.path.join(os.path.dirname(dataset), 'aclImdb')\n",
    "\n",
    "train_dir = os.path.join(dataset_dir, 'train')\n",
    "\n",
    "# remove unused folders to make it easier to load the data\n",
    "remove_dir = os.path.join(train_dir, 'unsup')\n",
    "shutil.rmtree(remove_dir)"
   ]
  },
  {
   "cell_type": "code",
   "execution_count": 183,
   "metadata": {},
   "outputs": [
    {
     "name": "stdout",
     "output_type": "stream",
     "text": [
      "Found 826 files belonging to 5 classes.\n",
      "Using 661 files for training.\n",
      "Found 826 files belonging to 5 classes.\n",
      "Using 165 files for validation.\n",
      "Found 826 files belonging to 5 classes.\n"
     ]
    }
   ],
   "source": [
    "imdb_reviews = 'aclImdb/train'\n",
    "imdb_reviews_test = 'aclImdb/test'\n",
    "\n",
    "medical_notes_dir = '/home/muody/data/medicalnotes/dataset/train-data'\n",
    "medical_notes_dir_test = '/home/muody/data/medicalnotes/dataset/unlabeled-test-data'\n",
    "\n",
    "raw_data = imdb_reviews\n",
    "test_data = imdb_reviews_test\n",
    "\n",
    "raw_data = medical_notes_dir\n",
    "test_data = medical_notes_dir\n",
    "\n",
    "AUTOTUNE = tf.data.AUTOTUNE\n",
    "batch_size = 32\n",
    "seed = 42\n",
    "\n",
    "raw_train_ds = tf.keras.preprocessing.text_dataset_from_directory(\n",
    "    raw_data,\n",
    "    batch_size=batch_size,\n",
    "    validation_split=0.2,\n",
    "    subset='training',\n",
    "    seed=seed)\n",
    "\n",
    "class_names = raw_train_ds.class_names\n",
    "train_ds = raw_train_ds.cache().prefetch(buffer_size=AUTOTUNE)\n",
    "\n",
    "val_ds = tf.keras.preprocessing.text_dataset_from_directory(\n",
    "    raw_data,\n",
    "    batch_size=batch_size,\n",
    "    validation_split=0.2,\n",
    "    subset='validation',\n",
    "    seed=seed)\n",
    "\n",
    "val_ds = val_ds.cache().prefetch(buffer_size=AUTOTUNE)\n",
    "\n",
    "test_ds = tf.keras.preprocessing.text_dataset_from_directory(\n",
    "    test_data,\n",
    "    batch_size=batch_size)\n",
    "\n",
    "test_ds = test_ds.cache().prefetch(buffer_size=AUTOTUNE)"
   ]
  },
  {
   "cell_type": "code",
   "execution_count": 184,
   "metadata": {
    "scrolled": true
   },
   "outputs": [
    {
     "name": "stdout",
     "output_type": "stream",
     "text": [
      "Review b\"\\n\\n\\n\\n\\n<B>PREOPERATIVE DIAGNOSIS: </B> Colovesical fistula.\\n\\n<B>POSTOPERATIVE DIAGNOSES:</B>\\n1.  Colovesical fistula.\\n2.  Intraperitoneal abscess.\\n\\n<B>PROCEDURE PERFORMED:</B>\\n1.  Exploratory laparotomy.\\n2.  Low anterior colon resection.\\n3.  Flexible colonoscopy.\\n4.  Transverse loop colostomy and JP placement.\\n\\n<B>ANESTHESIA: </B> General.\\n\\n<B>HISTORY:  </B>This 74-year-old female who had a recent hip fracture and the patient was in rehab when she started having some stool coming out of the urethra.  The patient had retrograde cystogram, which revealed colovesical fistula.  Recommendation for a surgery was made.  The patient was explained the risks and benefits as well as the two sons and the daughter.  They understood that the patient can even die from this procedure.  All the three procedures were explained, without a colostomy, with Hartmann's colostomy, and with a transverse loop colostomy, and out of the three procedures, the patient's requested to have the loop colostomy and stated that the Hartmann's colostomy leaving the anastomosis with the risk of leaking.\\n\\n<B>PROCEDURE DETAILS: </B> The patient was taken to the operating room, prepped and draped in the sterile fashion and was given general anesthetic.  An incision was performed in the midline below the umbilicus to the pubis with a #10 blade Bard Parker.  Electrocautery was used for hemostasis down to the fascia.  The fascia was grasped with Ochsner's and then immediately the peritoneum was entered and the incision was carried cephalad and caudad with electrocautery.\\n\\nOnce within the peritoneum, adhesiolysis was performed to separate the small bowel from the attachment of the anterior abdominal wall.  At this point, immediately a small bowel was retracted cephalad.  The patient was taken to a slightly Trendelenburg position and the descending colon was seen.  The white line of Toldt was opened all the way down to the area of inflammation.  At this point, meticulous dissection was carried to separate the small bowel from the attachment to the abscess.  When the small bowel was completely freed of  abscess, bulk of the bladder was seen anteriorly to the uterus.  The abscess was cultured and sent it back to Bacteriology Department and immediately the opening into the bladder was visualized.  At this point, the entire sigmoid colon was separated posteriorly as well as laterally and it was all the way down to sigmoid down to the rectum.  At this point, decision to place a moist towel and retract old intestine superiorly as well as to place first self-retaining retractor in the abdominal cavity with a bladder blade was placed.  Immediately, a GIA was fired right across the descending colon and sigmoid colon junction and then with peons within the mesentery were placed all the way down to the rectosigmoid junction where a TA-55 balloon Roticulator was fired.  The specimen was cut with #10 blade Bard-Parker and sent it to Pathology.  Immediately copious amount of irrigation was used and the staple line in the descending colon was brought with Allis.  A pursestring device was fired.  The staple line was cut.  The dilators were used using #25 and #29, then _________ #29 EEA was placed and the suture was tied.  At this point, attention was directed down to the rectal stump where dilators #25 and #29 were passed from the anus into the rectum and then the #29 Ethicon GIA was introduced.  The spike came posteriorly through the staple line to avoid the inflammatory process anteriorly that was present in the area of the cul-de-sac as well as the uterine was present in this patient.  \\n\\nImmediately, the EEA was connected with a mushroom.  It was tied, fired, and a Doyen was placed above the anastomosis approximately four inches.  Fluid was placed within the _________ and immediately a colonoscope was introduced from the patient's anus insufflating air.  No air was seen evolving from the staple line.  All fluid was removed and pictures of the staple line were taken.  The scope was removed at this point.  The case was passed to Dr. X for repair of the vesicle fistula.  Dr. X did repair down the perforation of the bladder that was communicating with an abscess secondary to the perforated diverticulitis and the colon.  After this was performed, copious amount of irrigation was used again.  More lysis of adhesions were performed and decision to make a loop transverse colostomy was made to protect the anastomosis in a phase of a severe inflammatory process in the pelvis in the infected area.  The incision was performed in the right upper quadrant.\\n\\nThis incision was performed with cutting in the cautery, down into the fascia splitting the muscle and then the Penrose was passed under transverse colon, and was grasped on pulling the transverse colon at the level of the skin.  The wire was passed under the transverse colon.  It was left in place.  Moderate irrigation was used in the peritoneal cavity and in the right lower quadrant, a JP was placed in the pelvis posteriorly to the abscess cavity that was down on the pelvis.  At this point, immediately, yellow fluid was removed from the peritoneal cavity and the abdomen was closed with cephalad to caudad and caudad to cephalad with a loop PDS suture and then tied.  Electrocautery for hemostasis and the subcutaneous tissue.  Copious amount of irrigation was used.  The skin was approximated with staples.  At this point, immediately, the wound was covered with a moist towel and decision to mature the loop colostomy was made.  The colostomy was opened longitudinally and then matured with interrupted #3-0 Vicryl suture through the skin edge.  One it was completely matured, immediately the index finger was probed proximally and distally and both loops were completely opened.  As previously mentioned, the Penrose was removed and the Bard was secured with a #3-0 nylon suture.  The JP was secured with #3-0 nylon suture as well.  At this point, dressings were applied.  The patient tolerated the procedure well.  The stent from the left ureter was removed and the Foley was left in place.  The patient did tolerate the procedure well and will be followed up during the hospitalization.\\n\\n\\n\\n\\n\\n\\n\\n\"\n",
      "Label 0\n",
      "Review b\"\\n\\n\\n\\n\\n<B>SUBJECTIVE:</B>  The patient is here for a follow-up.  The patient has a history of lupus, currently on Plaquenil 200-mg b.i.d.  Eye report was noted and appreciated.  The patient states that she is having some aches and pains of the hands and elbows that started recently a few weeks ago.  She denied having any trauma.  She states that the pain is bothering her.  She denies having any fevers, chills, or any joint effusion or swelling at this point.  She noted also that there is some increase in her hair loss in the recent times.\\n\\n<B>OBJECTIVE:</B>  The patient is alert and oriented.  General physical exam is unremarkable.  Musculoskeletal exam reveals positive tenderness in both lateral epicondyles of both elbows, no effusion.  Hand examination is unremarkable today.  The rest of the musculoskeletal exam is unremarkable.\\n\\n<B>ASSESSMENT:</B>  Epicondylitis, both elbows, possibly secondary to lupus flare-up.\\n\\n<B>PLAN:</B>  We will inject both elbows with 40-mg of Kenalog mixed with 1 cc of lidocaine.  The posterior approach was chosen under sterile conditions.  The patient tolerated both procedures well.  I will obtain CBC and urinalysis today.  If the patient's pain does not improve, I will consider adding methotrexate to her therapy.\\n\\n\\n\\nSample Doctor M.D.\\n\\n\\n\\n\\n\\n\\n\\n\"\n",
      "Label 2\n",
      "Review b\"\\n\\n\\n\\n\\n<B>PREOPERATIVE DIAGNOSIS (ES):</B>\\n1. Cholelithiasis.\\n2. Cholecystitis.\\n\\n<B>POSTOPERATIVE DIAGNOSIS (ES):</B>\\n1. Acute perforated gangrenous cholecystitis.\\n2. Cholelithiasis.\\n\\n<B>PROCEDURE:</B>\\n1. Attempted laparoscopic cholecystectomy.\\n2. Open cholecystectomy.\\n\\n<B>ANESTHESIA:</B> General endotracheal anesthesia.\\n\\n<B>COUNTS:</B> Correct.\\n\\n<B>COMPLICATIONS:</B> None apparent.\\n\\n<B>ESTIMATED BLOOD LOSS:</B> 275 mL.\\n\\n<B>SPECIMENS:</B>\\n1. Gallbladder.\\n2. Lymph node.\\n\\n<B>DRAINS:</B> One 19-French round Blake.\\n\\n<B>DESCRIPTION OF THE OPERATION:</B> After consent was obtained and the patient was properly identified, the patient was transported to the operating room and after induction of general endotracheal anesthesia, the patient was prepped and draped in a normal sterile fashion.\\n\\nAfter infiltration with local, a vertical incision was made at the umbilicus and utilizing graspers, the underlying fascia was incised and was divided sharply. Dissecting further, the peritoneal cavity was entered. Once this done, a Hasson trocar was secured with #1 Vicryl and the abdomen was insufflated without difficulty. A camera was placed into the abdomen and there was noted to be omentum overlying the subhepatic space. A second trocar was placed in the standard fashion in the subxiphoid area; this was a 10/12 mm non-bladed trocar. Once this was done, a grasper was used to try and mobilize the omentum and a second grasper was added in the right costal margin; this was a 5-mm port placed, it was non-bladed and placed in the usual fashion under direct visualization without difficulty. A grasper was used to mobilize free the omentum which was acutely friable and after a significant time-consuming effort was made to mobilize the omentum, it was clear that the gallbladder was well incorporated by the omentum and it would be unsafe to proceed with a laparoscopy procedure and then the procedure was converted to open.\\n\\nThe trocars were removed and a right subcostal incision was made incorporating the 10/12 subxiphoid port. The subcutaneous space was divided with electrocautery, as well as the muscles and fascia. The Bookwalter retraction system was then set up and retractors were placed to provide exposure to the right subhepatic space. Then utilizing a right-angle and electrocautery, the omentum was freed from the gallbladder. An ensuing retrograde cholecystectomy was performed, in which, electrocautery and blunt dissection were used to mobilize the gallbladder from the gallbladder fossa; this was done down to the infundibulum. After meticulous dissection, the cystic artery was identified and it was ligated between 3-0 silks. Several other small ties were placed on smaller bleeding vessels and the cystic duct was identified, was skeletonized, and a 3-0 stick tie was placed on the proximal portion of it. After it was divided, the gallbladder was freed from the field.\\n\\nOnce this was done, the liver bed was inspected for hemostasis and this was achieved with electrocautery. Copious irrigation was also used. A 19-French Blake drain was placed in Morrison's pouch lateral to the gallbladder fossa and was secured in place with 2-0 nylon; this was a 19-French round Blake. Once this was done, the umbilical port was closed with #1 Vicryl in an interrupted fashion and then the wound was closed in two layers with #1 Vicryl in an interrupted fashion. The skin was closed with and absorbable stitch.\\n\\nThe patient was then awakened from anesthesia, extubated, and transported to the recovery room in stable condition.\\n\\n\\n\\n\\n\\n\\n\\n\"\n",
      "Label 0\n"
     ]
    }
   ],
   "source": [
    "for text_batch, label_batch in raw_train_ds.take(1):\n",
    "    for i in range(3):\n",
    "        print(\"Review\", text_batch.numpy()[i])\n",
    "        print(\"Label\", label_batch.numpy()[i])"
   ]
  },
  {
   "cell_type": "code",
   "execution_count": 186,
   "metadata": {},
   "outputs": [
    {
     "name": "stdout",
     "output_type": "stream",
     "text": [
      "Label 0 corresponds to Gastroenterology\n",
      "Label 1 corresponds to Neurology\n",
      "Label 2 corresponds to Orthopedic\n",
      "Label 3 corresponds to Radiology\n",
      "Label 4 corresponds to Urology\n"
     ]
    }
   ],
   "source": [
    "for i in range(len(raw_train_ds.class_names)):\n",
    "    print(\"Label {} corresponds to\".format(i), raw_train_ds.class_names[i])"
   ]
  },
  {
   "cell_type": "code",
   "execution_count": 187,
   "metadata": {},
   "outputs": [
    {
     "name": "stdout",
     "output_type": "stream",
     "text": [
      "BERT model selected           : https://tfhub.dev/tensorflow/small_bert/bert_en_uncased_L-4_H-512_A-8/1\n",
      "Preprocess model auto-selected: https://tfhub.dev/tensorflow/bert_en_uncased_preprocess/2\n"
     ]
    }
   ],
   "source": [
    "bert_model_name = 'small_bert/bert_en_uncased_L-4_H-512_A-8' \n",
    "#bert_model_name = 'small_bert/bert_en_uncased_L-2_H-128_A-2' \n",
    "\n",
    "map_name_to_handle = {\n",
    "    'bert_en_uncased_L-12_H-768_A-12':\n",
    "        'https://tfhub.dev/tensorflow/bert_en_uncased_L-12_H-768_A-12/3',\n",
    "    'bert_en_cased_L-12_H-768_A-12':\n",
    "        'https://tfhub.dev/tensorflow/bert_en_cased_L-12_H-768_A-12/3',\n",
    "    'bert_multi_cased_L-12_H-768_A-12':\n",
    "        'https://tfhub.dev/tensorflow/bert_multi_cased_L-12_H-768_A-12/3',\n",
    "    'small_bert/bert_en_uncased_L-2_H-128_A-2':\n",
    "        'https://tfhub.dev/tensorflow/small_bert/bert_en_uncased_L-2_H-128_A-2/1',\n",
    "    'small_bert/bert_en_uncased_L-2_H-256_A-4':\n",
    "        'https://tfhub.dev/tensorflow/small_bert/bert_en_uncased_L-2_H-256_A-4/1',\n",
    "    'small_bert/bert_en_uncased_L-2_H-512_A-8':\n",
    "        'https://tfhub.dev/tensorflow/small_bert/bert_en_uncased_L-2_H-512_A-8/1',\n",
    "    'small_bert/bert_en_uncased_L-2_H-768_A-12':\n",
    "        'https://tfhub.dev/tensorflow/small_bert/bert_en_uncased_L-2_H-768_A-12/1',\n",
    "    'small_bert/bert_en_uncased_L-4_H-128_A-2':\n",
    "        'https://tfhub.dev/tensorflow/small_bert/bert_en_uncased_L-4_H-128_A-2/1',\n",
    "    'small_bert/bert_en_uncased_L-4_H-256_A-4':\n",
    "        'https://tfhub.dev/tensorflow/small_bert/bert_en_uncased_L-4_H-256_A-4/1',\n",
    "    'small_bert/bert_en_uncased_L-4_H-512_A-8':\n",
    "        'https://tfhub.dev/tensorflow/small_bert/bert_en_uncased_L-4_H-512_A-8/1',\n",
    "    'small_bert/bert_en_uncased_L-4_H-768_A-12':\n",
    "        'https://tfhub.dev/tensorflow/small_bert/bert_en_uncased_L-4_H-768_A-12/1',\n",
    "    'small_bert/bert_en_uncased_L-6_H-128_A-2':\n",
    "        'https://tfhub.dev/tensorflow/small_bert/bert_en_uncased_L-6_H-128_A-2/1',\n",
    "    'small_bert/bert_en_uncased_L-6_H-256_A-4':\n",
    "        'https://tfhub.dev/tensorflow/small_bert/bert_en_uncased_L-6_H-256_A-4/1',\n",
    "    'small_bert/bert_en_uncased_L-6_H-512_A-8':\n",
    "        'https://tfhub.dev/tensorflow/small_bert/bert_en_uncased_L-6_H-512_A-8/1',\n",
    "    'small_bert/bert_en_uncased_L-6_H-768_A-12':\n",
    "        'https://tfhub.dev/tensorflow/small_bert/bert_en_uncased_L-6_H-768_A-12/1',\n",
    "    'small_bert/bert_en_uncased_L-8_H-128_A-2':\n",
    "        'https://tfhub.dev/tensorflow/small_bert/bert_en_uncased_L-8_H-128_A-2/1',\n",
    "    'small_bert/bert_en_uncased_L-8_H-256_A-4':\n",
    "        'https://tfhub.dev/tensorflow/small_bert/bert_en_uncased_L-8_H-256_A-4/1',\n",
    "    'small_bert/bert_en_uncased_L-8_H-512_A-8':\n",
    "        'https://tfhub.dev/tensorflow/small_bert/bert_en_uncased_L-8_H-512_A-8/1',\n",
    "    'small_bert/bert_en_uncased_L-8_H-768_A-12':\n",
    "        'https://tfhub.dev/tensorflow/small_bert/bert_en_uncased_L-8_H-768_A-12/1',\n",
    "    'small_bert/bert_en_uncased_L-10_H-128_A-2':\n",
    "        'https://tfhub.dev/tensorflow/small_bert/bert_en_uncased_L-10_H-128_A-2/1',\n",
    "    'small_bert/bert_en_uncased_L-10_H-256_A-4':\n",
    "        'https://tfhub.dev/tensorflow/small_bert/bert_en_uncased_L-10_H-256_A-4/1',\n",
    "    'small_bert/bert_en_uncased_L-10_H-512_A-8':\n",
    "        'https://tfhub.dev/tensorflow/small_bert/bert_en_uncased_L-10_H-512_A-8/1',\n",
    "    'small_bert/bert_en_uncased_L-10_H-768_A-12':\n",
    "        'https://tfhub.dev/tensorflow/small_bert/bert_en_uncased_L-10_H-768_A-12/1',\n",
    "    'small_bert/bert_en_uncased_L-12_H-128_A-2':\n",
    "        'https://tfhub.dev/tensorflow/small_bert/bert_en_uncased_L-12_H-128_A-2/1',\n",
    "    'small_bert/bert_en_uncased_L-12_H-256_A-4':\n",
    "        'https://tfhub.dev/tensorflow/small_bert/bert_en_uncased_L-12_H-256_A-4/1',\n",
    "    'small_bert/bert_en_uncased_L-12_H-512_A-8':\n",
    "        'https://tfhub.dev/tensorflow/small_bert/bert_en_uncased_L-12_H-512_A-8/1',\n",
    "    'small_bert/bert_en_uncased_L-12_H-768_A-12':\n",
    "        'https://tfhub.dev/tensorflow/small_bert/bert_en_uncased_L-12_H-768_A-12/1',\n",
    "    'albert_en_base':\n",
    "        'https://tfhub.dev/tensorflow/albert_en_base/2',\n",
    "    'electra_small':\n",
    "        'https://tfhub.dev/google/electra_small/2',\n",
    "    'electra_base':\n",
    "        'https://tfhub.dev/google/electra_base/2',\n",
    "    'experts_pubmed':\n",
    "        'https://tfhub.dev/google/experts/bert/pubmed/2',\n",
    "    'experts_wiki_books':\n",
    "        'https://tfhub.dev/google/experts/bert/wiki_books/2',\n",
    "    'talking-heads_base':\n",
    "        'https://tfhub.dev/tensorflow/talkheads_ggelu_bert_en_base/1',\n",
    "}\n",
    "\n",
    "map_model_to_preprocess = {\n",
    "    'bert_en_uncased_L-12_H-768_A-12':\n",
    "        'https://tfhub.dev/tensorflow/bert_en_uncased_preprocess/2',\n",
    "    'bert_en_cased_L-12_H-768_A-12':\n",
    "        'https://tfhub.dev/tensorflow/bert_en_cased_preprocess/2',\n",
    "    'small_bert/bert_en_uncased_L-2_H-128_A-2':\n",
    "        'https://tfhub.dev/tensorflow/bert_en_uncased_preprocess/2',\n",
    "    'small_bert/bert_en_uncased_L-2_H-256_A-4':\n",
    "        'https://tfhub.dev/tensorflow/bert_en_uncased_preprocess/2',\n",
    "    'small_bert/bert_en_uncased_L-2_H-512_A-8':\n",
    "        'https://tfhub.dev/tensorflow/bert_en_uncased_preprocess/2',\n",
    "    'small_bert/bert_en_uncased_L-2_H-768_A-12':\n",
    "        'https://tfhub.dev/tensorflow/bert_en_uncased_preprocess/2',\n",
    "    'small_bert/bert_en_uncased_L-4_H-128_A-2':\n",
    "        'https://tfhub.dev/tensorflow/bert_en_uncased_preprocess/2',\n",
    "    'small_bert/bert_en_uncased_L-4_H-256_A-4':\n",
    "        'https://tfhub.dev/tensorflow/bert_en_uncased_preprocess/2',\n",
    "    'small_bert/bert_en_uncased_L-4_H-512_A-8':\n",
    "        'https://tfhub.dev/tensorflow/bert_en_uncased_preprocess/2',\n",
    "    'small_bert/bert_en_uncased_L-4_H-768_A-12':\n",
    "        'https://tfhub.dev/tensorflow/bert_en_uncased_preprocess/2',\n",
    "    'small_bert/bert_en_uncased_L-6_H-128_A-2':\n",
    "        'https://tfhub.dev/tensorflow/bert_en_uncased_preprocess/2',\n",
    "    'small_bert/bert_en_uncased_L-6_H-256_A-4':\n",
    "        'https://tfhub.dev/tensorflow/bert_en_uncased_preprocess/2',\n",
    "    'small_bert/bert_en_uncased_L-6_H-512_A-8':\n",
    "        'https://tfhub.dev/tensorflow/bert_en_uncased_preprocess/2',\n",
    "    'small_bert/bert_en_uncased_L-6_H-768_A-12':\n",
    "        'https://tfhub.dev/tensorflow/bert_en_uncased_preprocess/2',\n",
    "    'small_bert/bert_en_uncased_L-8_H-128_A-2':\n",
    "        'https://tfhub.dev/tensorflow/bert_en_uncased_preprocess/2',\n",
    "    'small_bert/bert_en_uncased_L-8_H-256_A-4':\n",
    "        'https://tfhub.dev/tensorflow/bert_en_uncased_preprocess/2',\n",
    "    'small_bert/bert_en_uncased_L-8_H-512_A-8':\n",
    "        'https://tfhub.dev/tensorflow/bert_en_uncased_preprocess/2',\n",
    "    'small_bert/bert_en_uncased_L-8_H-768_A-12':\n",
    "        'https://tfhub.dev/tensorflow/bert_en_uncased_preprocess/2',\n",
    "    'small_bert/bert_en_uncased_L-10_H-128_A-2':\n",
    "        'https://tfhub.dev/tensorflow/bert_en_uncased_preprocess/2',\n",
    "    'small_bert/bert_en_uncased_L-10_H-256_A-4':\n",
    "        'https://tfhub.dev/tensorflow/bert_en_uncased_preprocess/2',\n",
    "    'small_bert/bert_en_uncased_L-10_H-512_A-8':\n",
    "        'https://tfhub.dev/tensorflow/bert_en_uncased_preprocess/2',\n",
    "    'small_bert/bert_en_uncased_L-10_H-768_A-12':\n",
    "        'https://tfhub.dev/tensorflow/bert_en_uncased_preprocess/2',\n",
    "    'small_bert/bert_en_uncased_L-12_H-128_A-2':\n",
    "        'https://tfhub.dev/tensorflow/bert_en_uncased_preprocess/2',\n",
    "    'small_bert/bert_en_uncased_L-12_H-256_A-4':\n",
    "        'https://tfhub.dev/tensorflow/bert_en_uncased_preprocess/2',\n",
    "    'small_bert/bert_en_uncased_L-12_H-512_A-8':\n",
    "        'https://tfhub.dev/tensorflow/bert_en_uncased_preprocess/2',\n",
    "    'small_bert/bert_en_uncased_L-12_H-768_A-12':\n",
    "        'https://tfhub.dev/tensorflow/bert_en_uncased_preprocess/2',\n",
    "    'bert_multi_cased_L-12_H-768_A-12':\n",
    "        'https://tfhub.dev/tensorflow/bert_multi_cased_preprocess/2',\n",
    "    'albert_en_base':\n",
    "        'https://tfhub.dev/tensorflow/albert_en_preprocess/2',\n",
    "    'electra_small':\n",
    "        'https://tfhub.dev/tensorflow/bert_en_uncased_preprocess/2',\n",
    "    'electra_base':\n",
    "        'https://tfhub.dev/tensorflow/bert_en_uncased_preprocess/2',\n",
    "    'experts_pubmed':\n",
    "        'https://tfhub.dev/tensorflow/bert_en_uncased_preprocess/2',\n",
    "    'experts_wiki_books':\n",
    "        'https://tfhub.dev/tensorflow/bert_en_uncased_preprocess/2',\n",
    "    'talking-heads_base':\n",
    "        'https://tfhub.dev/tensorflow/bert_en_uncased_preprocess/2',\n",
    "}\n",
    "\n",
    "tfhub_handle_encoder = map_name_to_handle[bert_model_name]\n",
    "tfhub_handle_preprocess = map_model_to_preprocess[bert_model_name]\n",
    "\n",
    "print(f'BERT model selected           : {tfhub_handle_encoder}')\n",
    "print(f'Preprocess model auto-selected: {tfhub_handle_preprocess}')"
   ]
  },
  {
   "cell_type": "code",
   "execution_count": 188,
   "metadata": {},
   "outputs": [],
   "source": [
    "bert_preprocess_model = hub.KerasLayer(tfhub_handle_preprocess)"
   ]
  },
  {
   "cell_type": "code",
   "execution_count": 189,
   "metadata": {},
   "outputs": [
    {
     "name": "stdout",
     "output_type": "stream",
     "text": [
      "Keys       : ['input_word_ids', 'input_type_ids', 'input_mask']\n",
      "Shape      : (1, 128)\n",
      "Word Ids   : [ 101 2023 2003 2107 2019 6429 3185  999  102    0    0    0]\n",
      "Input Mask : [1 1 1 1 1 1 1 1 1 0 0 0]\n",
      "Type Ids   : [0 0 0 0 0 0 0 0 0 0 0 0]\n"
     ]
    }
   ],
   "source": [
    "text_test = ['this is such an amazing movie!']\n",
    "text_preprocessed = bert_preprocess_model(text_test)\n",
    "\n",
    "print(f'Keys       : {list(text_preprocessed.keys())}')\n",
    "print(f'Shape      : {text_preprocessed[\"input_word_ids\"].shape}')\n",
    "print(f'Word Ids   : {text_preprocessed[\"input_word_ids\"][0, :12]}')\n",
    "print(f'Input Mask : {text_preprocessed[\"input_mask\"][0, :12]}')\n",
    "print(f'Type Ids   : {text_preprocessed[\"input_type_ids\"][0, :12]}')"
   ]
  },
  {
   "cell_type": "code",
   "execution_count": 190,
   "metadata": {},
   "outputs": [
    {
     "name": "stdout",
     "output_type": "stream",
     "text": [
      "tf.Tensor([[0.7857349  0.72015905 0.5953782  0.475161   0.26249975]], shape=(1, 5), dtype=float32)\n"
     ]
    },
    {
     "data": {
      "image/png": "[encoded data removed]",
      "text/plain": [
       "<IPython.core.display.Image object>"
      ]
     },
     "execution_count": 190,
     "metadata": {},
     "output_type": "execute_result"
    }
   ],
   "source": [
    "def build_classifier_model():\n",
    "    text_input = tf.keras.layers.Input(shape=(), dtype=tf.string, name='text')\n",
    "    preprocessing_layer = hub.KerasLayer(tfhub_handle_preprocess, name='preprocessing')\n",
    "    encoder_inputs = preprocessing_layer(text_input)\n",
    "    encoder = hub.KerasLayer(tfhub_handle_encoder, trainable=True, name='BERT_encoder')\n",
    "    outputs = encoder(encoder_inputs)\n",
    "    net = outputs['pooled_output']\n",
    "    net = tf.keras.layers.Dropout(0.2)(net)\n",
    "    net = tf.keras.layers.Dense(5, activation=None, name='classifier')(net)\n",
    "    return tf.keras.Model(text_input, net)\n",
    "\n",
    "classifier_model = build_classifier_model()\n",
    "bert_raw_result = classifier_model(tf.constant(text_test))\n",
    "print(tf.sigmoid(bert_raw_result))\n",
    "tf.keras.utils.plot_model(classifier_model)"
   ]
  },
  {
   "cell_type": "code",
   "execution_count": 195,
   "metadata": {},
   "outputs": [
    {
     "name": "stdout",
     "output_type": "stream",
     "text": [
      "Training model with https://tfhub.dev/tensorflow/small_bert/bert_en_uncased_L-4_H-512_A-8/1\n",
      "Epoch 1/10\n",
      "21/21 [==============================] - 57s 2s/step - loss: 0.8114 - accuracy: 0.7058 - val_loss: 0.9019 - val_accuracy: 0.6424\n",
      "Epoch 2/10\n",
      "21/21 [==============================] - 50s 2s/step - loss: 0.6889 - accuracy: 0.7585 - val_loss: 0.8123 - val_accuracy: 0.6424\n",
      "Epoch 3/10\n",
      "21/21 [==============================] - 50s 2s/step - loss: 0.5235 - accuracy: 0.8084 - val_loss: 0.8537 - val_accuracy: 0.6485\n",
      "Epoch 4/10\n",
      "21/21 [==============================] - 50s 2s/step - loss: 0.4463 - accuracy: 0.8542 - val_loss: 0.8212 - val_accuracy: 0.6606\n",
      "Epoch 5/10\n",
      "21/21 [==============================] - 50s 2s/step - loss: 0.3517 - accuracy: 0.8766 - val_loss: 0.8359 - val_accuracy: 0.6606\n",
      "Epoch 6/10\n",
      "21/21 [==============================] - 50s 2s/step - loss: 0.3563 - accuracy: 0.8603 - val_loss: 0.8537 - val_accuracy: 0.6545\n",
      "Epoch 7/10\n",
      "21/21 [==============================] - 50s 2s/step - loss: 0.2610 - accuracy: 0.9223 - val_loss: 0.8337 - val_accuracy: 0.6727\n",
      "Epoch 8/10\n",
      "21/21 [==============================] - 50s 2s/step - loss: 0.2860 - accuracy: 0.8867 - val_loss: 0.8656 - val_accuracy: 0.6727\n",
      "Epoch 9/10\n",
      "21/21 [==============================] - 50s 2s/step - loss: 0.2522 - accuracy: 0.9145 - val_loss: 0.8485 - val_accuracy: 0.6788\n",
      "Epoch 10/10\n",
      "21/21 [==============================] - 50s 2s/step - loss: 0.2330 - accuracy: 0.9252 - val_loss: 0.8436 - val_accuracy: 0.6667\n"
     ]
    }
   ],
   "source": [
    "#loss = tf.keras.losses.BinaryCrossentropy(from_logits=True)\n",
    "#metrics = tf.metrics.BinaryAccuracy()\n",
    "\n",
    "loss = tf.keras.losses.SparseCategoricalCrossentropy(from_logits=True)\n",
    "metrics = tf.metrics.Accuracy()\n",
    "\n",
    "\n",
    "epochs = 10\n",
    "steps_per_epoch = tf.data.experimental.cardinality(raw_train_ds).numpy()\n",
    "num_train_steps = steps_per_epoch * epochs\n",
    "num_warmup_steps = int(0.1*num_train_steps)\n",
    "\n",
    "init_lr = 3e-5\n",
    "optimizer = optimization.create_optimizer(init_lr=init_lr,\n",
    "                                          num_train_steps=num_train_steps,\n",
    "                                          num_warmup_steps=num_warmup_steps,\n",
    "                                          optimizer_type='adamw')\n",
    "\n",
    "classifier_model.compile(optimizer=optimizer,\n",
    "                         loss=loss,\n",
    "                         metrics='accuracy')\n",
    "\n",
    "print(f'Training model with {tfhub_handle_encoder}')\n",
    "history = classifier_model.fit(x=raw_train_ds,\n",
    "                               validation_data=raw_val_ds,\n",
    "                               epochs=epochs)"
   ]
  },
  {
   "cell_type": "code",
   "execution_count": null,
   "metadata": {},
   "outputs": [],
   "source": [
    "history_dict = history.history\n",
    "print(history_dict.keys())\n",
    "\n",
    "acc = history_dict['binary_accuracy']\n",
    "val_acc = history_dict['val_binary_accuracy']\n",
    "loss = history_dict['loss']\n",
    "val_loss = history_dict['val_loss']\n",
    "\n",
    "epochs = range(1, len(acc) + 1)\n",
    "fig = plt.figure(figsize=(10, 6))\n",
    "fig.tight_layout()\n",
    "\n",
    "plt.subplot(2, 1, 1)\n",
    "# \"bo\" is for \"blue dot\"\n",
    "plt.plot(epochs, loss, 'r', label='Training loss')\n",
    "# b is for \"solid blue line\"\n",
    "plt.plot(epochs, val_loss, 'b', label='Validation loss')\n",
    "plt.title('Training and validation loss')\n",
    "# plt.xlabel('Epochs')\n",
    "plt.ylabel('Loss')\n",
    "plt.legend()\n",
    "\n",
    "plt.subplot(2, 1, 2)\n",
    "plt.plot(epochs, acc, 'r', label='Training acc')\n",
    "plt.plot(epochs, val_acc, 'b', label='Validation acc')\n",
    "plt.title('Training and validation accuracy')\n",
    "plt.xlabel('Epochs')\n",
    "plt.ylabel('Accuracy')\n",
    "plt.legend(loc='lower right')"
   ]
  }
 ],
 "metadata": {
  "kernelspec": {
   "display_name": "Python 3",
   "language": "python",
   "name": "python3"
  },
  "language_info": {
   "codemirror_mode": {
    "name": "ipython",
    "version": 3
   },
   "file_extension": ".py",
   "mimetype": "text/x-python",
   "name": "python",
   "nbconvert_exporter": "python",
   "pygments_lexer": "ipython3",
   "version": "3.8.5"
  }
 },
 "nbformat": 4,
 "nbformat_minor": 4
}
