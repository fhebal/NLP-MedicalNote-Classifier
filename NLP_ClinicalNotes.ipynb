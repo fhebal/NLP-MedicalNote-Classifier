{
 "cells": [
  {
   "cell_type": "code",
   "execution_count": 62,
   "metadata": {},
   "outputs": [
    {
     "name": "stdout",
     "output_type": "stream",
     "text": [
      "2.3.1\n"
     ]
    }
   ],
   "source": [
    "import matplotlib.pyplot as plt\n",
    "import os\n",
    "import re\n",
    "import shutil\n",
    "import string\n",
    "import tensorflow as tf\n",
    "\n",
    "from tensorflow.keras import layers\n",
    "from tensorflow.keras import losses\n",
    "from tensorflow.keras import preprocessing\n",
    "from tensorflow.keras.layers.experimental.preprocessing import TextVectorization\n",
    "print(tf.__version__)"
   ]
  },
  {
   "cell_type": "code",
   "execution_count": 620,
   "metadata": {},
   "outputs": [],
   "source": [
    "url = \"https://ai.stanford.edu/~amaas/data/sentiment/aclImdb_v1.tar.gz\"\n",
    "\n",
    "dataset = tf.keras.utils.get_file(\"aclImdb_v1.tar.gz\", url,\n",
    "                                    untar=True, cache_dir='.',\n",
    "                                    cache_subdir='')\n",
    "\n",
    "dataset_dir = os.path.join(os.path.dirname(dataset), 'aclImdb')"
   ]
  },
  {
   "cell_type": "code",
   "execution_count": 79,
   "metadata": {},
   "outputs": [
    {
     "name": "stdout",
     "output_type": "stream",
     "text": [
      "./aclImdb_v1.tar.gz\n",
      "./aclImdb\n"
     ]
    }
   ],
   "source": [
    "print(dataset)\n",
    "print(dataset_dir)"
   ]
  },
  {
   "cell_type": "code",
   "execution_count": 67,
   "metadata": {},
   "outputs": [
    {
     "data": {
      "text/plain": [
       "['test', 'README', 'imdb.vocab', 'imdbEr.txt', 'train']"
      ]
     },
     "execution_count": 67,
     "metadata": {},
     "output_type": "execute_result"
    }
   ],
   "source": [
    "os.listdir(dataset_dir)"
   ]
  },
  {
   "cell_type": "code",
   "execution_count": 82,
   "metadata": {},
   "outputs": [
    {
     "name": "stdout",
     "output_type": "stream",
     "text": [
      "imdbEr.txt  imdb.vocab\tREADME\ttest  train\r\n"
     ]
    }
   ],
   "source": [
    "! ls ./aclImdb"
   ]
  },
  {
   "cell_type": "code",
   "execution_count": 87,
   "metadata": {},
   "outputs": [
    {
     "data": {
      "text/plain": [
       "['labeledBow.feat',\n",
       " 'unsupBow.feat',\n",
       " 'neg',\n",
       " 'pos',\n",
       " 'urls_unsup.txt',\n",
       " 'urls_neg.txt',\n",
       " 'urls_pos.txt']"
      ]
     },
     "execution_count": 87,
     "metadata": {},
     "output_type": "execute_result"
    }
   ],
   "source": [
    "train_dir = os.path.join(dataset_dir, 'train')\n",
    "os.listdir(train_dir)"
   ]
  },
  {
   "cell_type": "code",
   "execution_count": 85,
   "metadata": {},
   "outputs": [
    {
     "name": "stdout",
     "output_type": "stream",
     "text": [
      "Rachel Griffiths writes and directs this award winning short film. A heartwarming story about coping with grief and cherishing the memory of those we've loved and lost. Although, only 15 minutes long, Griffiths manages to capture so much emotion and truth onto film in the short space of time. Bud Tingwell gives a touching performance as Will, a widower struggling to cope with his wife's death. Will is confronted by the harsh reality of loneliness and helplessness as he proceeds to take care of Ruth's pet cow, Tulip. The film displays the grief and responsibility one feels for those they have loved and lost. Good cinematography, great direction, and superbly acted. It will bring tears to all those who have lost a loved one, and survived.\n"
     ]
    }
   ],
   "source": [
    "sample_file = os.path.join(train_dir, 'pos/1181_9.txt')\n",
    "with open(sample_file) as f:\n",
    "    print(f.read())"
   ]
  },
  {
   "cell_type": "code",
   "execution_count": 95,
   "metadata": {},
   "outputs": [
    {
     "ename": "FileNotFoundError",
     "evalue": "[Errno 2] No such file or directory: './aclImdb/train/unsup'",
     "output_type": "error",
     "traceback": [
      "\u001b[0;31m---------------------------------------------------------------------------\u001b[0m",
      "\u001b[0;31mFileNotFoundError\u001b[0m                         Traceback (most recent call last)",
      "\u001b[0;32m<ipython-input-95-c3019530ae67>\u001b[0m in \u001b[0;36m<module>\u001b[0;34m\u001b[0m\n\u001b[1;32m      1\u001b[0m \u001b[0mremove_dir\u001b[0m \u001b[0;34m=\u001b[0m \u001b[0mos\u001b[0m\u001b[0;34m.\u001b[0m\u001b[0mpath\u001b[0m\u001b[0;34m.\u001b[0m\u001b[0mjoin\u001b[0m\u001b[0;34m(\u001b[0m\u001b[0mtrain_dir\u001b[0m\u001b[0;34m,\u001b[0m \u001b[0;34m'unsup'\u001b[0m\u001b[0;34m)\u001b[0m\u001b[0;34m\u001b[0m\u001b[0;34m\u001b[0m\u001b[0m\n\u001b[0;32m----> 2\u001b[0;31m \u001b[0mshutil\u001b[0m\u001b[0;34m.\u001b[0m\u001b[0mrmtree\u001b[0m\u001b[0;34m(\u001b[0m\u001b[0mremove_dir\u001b[0m\u001b[0;34m)\u001b[0m\u001b[0;34m\u001b[0m\u001b[0;34m\u001b[0m\u001b[0m\n\u001b[0m",
      "\u001b[0;32m/usr/lib/python3.8/shutil.py\u001b[0m in \u001b[0;36mrmtree\u001b[0;34m(path, ignore_errors, onerror)\u001b[0m\n\u001b[1;32m    704\u001b[0m             \u001b[0morig_st\u001b[0m \u001b[0;34m=\u001b[0m \u001b[0mos\u001b[0m\u001b[0;34m.\u001b[0m\u001b[0mlstat\u001b[0m\u001b[0;34m(\u001b[0m\u001b[0mpath\u001b[0m\u001b[0;34m)\u001b[0m\u001b[0;34m\u001b[0m\u001b[0;34m\u001b[0m\u001b[0m\n\u001b[1;32m    705\u001b[0m         \u001b[0;32mexcept\u001b[0m \u001b[0mException\u001b[0m\u001b[0;34m:\u001b[0m\u001b[0;34m\u001b[0m\u001b[0;34m\u001b[0m\u001b[0m\n\u001b[0;32m--> 706\u001b[0;31m             \u001b[0monerror\u001b[0m\u001b[0;34m(\u001b[0m\u001b[0mos\u001b[0m\u001b[0;34m.\u001b[0m\u001b[0mlstat\u001b[0m\u001b[0;34m,\u001b[0m \u001b[0mpath\u001b[0m\u001b[0;34m,\u001b[0m \u001b[0msys\u001b[0m\u001b[0;34m.\u001b[0m\u001b[0mexc_info\u001b[0m\u001b[0;34m(\u001b[0m\u001b[0;34m)\u001b[0m\u001b[0;34m)\u001b[0m\u001b[0;34m\u001b[0m\u001b[0;34m\u001b[0m\u001b[0m\n\u001b[0m\u001b[1;32m    707\u001b[0m             \u001b[0;32mreturn\u001b[0m\u001b[0;34m\u001b[0m\u001b[0;34m\u001b[0m\u001b[0m\n\u001b[1;32m    708\u001b[0m         \u001b[0;32mtry\u001b[0m\u001b[0;34m:\u001b[0m\u001b[0;34m\u001b[0m\u001b[0;34m\u001b[0m\u001b[0m\n",
      "\u001b[0;32m/usr/lib/python3.8/shutil.py\u001b[0m in \u001b[0;36mrmtree\u001b[0;34m(path, ignore_errors, onerror)\u001b[0m\n\u001b[1;32m    702\u001b[0m         \u001b[0;31m# lstat()/open()/fstat() trick.\u001b[0m\u001b[0;34m\u001b[0m\u001b[0;34m\u001b[0m\u001b[0;34m\u001b[0m\u001b[0m\n\u001b[1;32m    703\u001b[0m         \u001b[0;32mtry\u001b[0m\u001b[0;34m:\u001b[0m\u001b[0;34m\u001b[0m\u001b[0;34m\u001b[0m\u001b[0m\n\u001b[0;32m--> 704\u001b[0;31m             \u001b[0morig_st\u001b[0m \u001b[0;34m=\u001b[0m \u001b[0mos\u001b[0m\u001b[0;34m.\u001b[0m\u001b[0mlstat\u001b[0m\u001b[0;34m(\u001b[0m\u001b[0mpath\u001b[0m\u001b[0;34m)\u001b[0m\u001b[0;34m\u001b[0m\u001b[0;34m\u001b[0m\u001b[0m\n\u001b[0m\u001b[1;32m    705\u001b[0m         \u001b[0;32mexcept\u001b[0m \u001b[0mException\u001b[0m\u001b[0;34m:\u001b[0m\u001b[0;34m\u001b[0m\u001b[0;34m\u001b[0m\u001b[0m\n\u001b[1;32m    706\u001b[0m             \u001b[0monerror\u001b[0m\u001b[0;34m(\u001b[0m\u001b[0mos\u001b[0m\u001b[0;34m.\u001b[0m\u001b[0mlstat\u001b[0m\u001b[0;34m,\u001b[0m \u001b[0mpath\u001b[0m\u001b[0;34m,\u001b[0m \u001b[0msys\u001b[0m\u001b[0;34m.\u001b[0m\u001b[0mexc_info\u001b[0m\u001b[0;34m(\u001b[0m\u001b[0;34m)\u001b[0m\u001b[0;34m)\u001b[0m\u001b[0;34m\u001b[0m\u001b[0;34m\u001b[0m\u001b[0m\n",
      "\u001b[0;31mFileNotFoundError\u001b[0m: [Errno 2] No such file or directory: './aclImdb/train/unsup'"
     ]
    }
   ],
   "source": [
    "remove_dir = os.path.join(train_dir, 'unsup')\n",
    "shutil.rmtree(remove_dir)"
   ]
  },
  {
   "cell_type": "code",
   "execution_count": 621,
   "metadata": {},
   "outputs": [
    {
     "name": "stdout",
     "output_type": "stream",
     "text": [
      "Found 826 files belonging to 5 classes.\n",
      "Using 661 files for training.\n"
     ]
    }
   ],
   "source": [
    "batch_size = 8\n",
    "seed = 42\n",
    "\n",
    "imdb_reviews = 'aclImdb/train'\n",
    "imdb_reviews_test = 'aclImdb/test'\n",
    "\n",
    "medical_notes_dir = '/home/muody/data/medicalnotes/dataset/train-data'\n",
    "medical_notes_dir_test = '/home/muody/data/medicalnotes/dataset/unlabeled-test-data'\n",
    "\n",
    "raw_data = imdb_reviews\n",
    "test_data = imdb_reviews_test\n",
    "\n",
    "raw_data = medical_notes_dir\n",
    "test_data = medical_notes_dir\n",
    "\n",
    "\n",
    "raw_train_ds = tf.keras.preprocessing.text_dataset_from_directory(\n",
    "    raw_data, \n",
    "    batch_size=batch_size, \n",
    "    validation_split=0.2, \n",
    "    subset='training', \n",
    "    seed=seed)"
   ]
  },
  {
   "cell_type": "code",
   "execution_count": 622,
   "metadata": {
    "scrolled": true
   },
   "outputs": [
    {
     "name": "stdout",
     "output_type": "stream",
     "text": [
      "Review b\"\\n\\n\\n\\n\\n<B>PREOPERATIVE DIAGNOSIS: </B> Colovesical fistula.\\n\\n<B>POSTOPERATIVE DIAGNOSES:</B>\\n1.  Colovesical fistula.\\n2.  Intraperitoneal abscess.\\n\\n<B>PROCEDURE PERFORMED:</B>\\n1.  Exploratory laparotomy.\\n2.  Low anterior colon resection.\\n3.  Flexible colonoscopy.\\n4.  Transverse loop colostomy and JP placement.\\n\\n<B>ANESTHESIA: </B> General.\\n\\n<B>HISTORY:  </B>This 74-year-old female who had a recent hip fracture and the patient was in rehab when she started having some stool coming out of the urethra.  The patient had retrograde cystogram, which revealed colovesical fistula.  Recommendation for a surgery was made.  The patient was explained the risks and benefits as well as the two sons and the daughter.  They understood that the patient can even die from this procedure.  All the three procedures were explained, without a colostomy, with Hartmann's colostomy, and with a transverse loop colostomy, and out of the three procedures, the patient's requested to have the loop colostomy and stated that the Hartmann's colostomy leaving the anastomosis with the risk of leaking.\\n\\n<B>PROCEDURE DETAILS: </B> The patient was taken to the operating room, prepped and draped in the sterile fashion and was given general anesthetic.  An incision was performed in the midline below the umbilicus to the pubis with a #10 blade Bard Parker.  Electrocautery was used for hemostasis down to the fascia.  The fascia was grasped with Ochsner's and then immediately the peritoneum was entered and the incision was carried cephalad and caudad with electrocautery.\\n\\nOnce within the peritoneum, adhesiolysis was performed to separate the small bowel from the attachment of the anterior abdominal wall.  At this point, immediately a small bowel was retracted cephalad.  The patient was taken to a slightly Trendelenburg position and the descending colon was seen.  The white line of Toldt was opened all the way down to the area of inflammation.  At this point, meticulous dissection was carried to separate the small bowel from the attachment to the abscess.  When the small bowel was completely freed of  abscess, bulk of the bladder was seen anteriorly to the uterus.  The abscess was cultured and sent it back to Bacteriology Department and immediately the opening into the bladder was visualized.  At this point, the entire sigmoid colon was separated posteriorly as well as laterally and it was all the way down to sigmoid down to the rectum.  At this point, decision to place a moist towel and retract old intestine superiorly as well as to place first self-retaining retractor in the abdominal cavity with a bladder blade was placed.  Immediately, a GIA was fired right across the descending colon and sigmoid colon junction and then with peons within the mesentery were placed all the way down to the rectosigmoid junction where a TA-55 balloon Roticulator was fired.  The specimen was cut with #10 blade Bard-Parker and sent it to Pathology.  Immediately copious amount of irrigation was used and the staple line in the descending colon was brought with Allis.  A pursestring device was fired.  The staple line was cut.  The dilators were used using #25 and #29, then _________ #29 EEA was placed and the suture was tied.  At this point, attention was directed down to the rectal stump where dilators #25 and #29 were passed from the anus into the rectum and then the #29 Ethicon GIA was introduced.  The spike came posteriorly through the staple line to avoid the inflammatory process anteriorly that was present in the area of the cul-de-sac as well as the uterine was present in this patient.  \\n\\nImmediately, the EEA was connected with a mushroom.  It was tied, fired, and a Doyen was placed above the anastomosis approximately four inches.  Fluid was placed within the _________ and immediately a colonoscope was introduced from the patient's anus insufflating air.  No air was seen evolving from the staple line.  All fluid was removed and pictures of the staple line were taken.  The scope was removed at this point.  The case was passed to Dr. X for repair of the vesicle fistula.  Dr. X did repair down the perforation of the bladder that was communicating with an abscess secondary to the perforated diverticulitis and the colon.  After this was performed, copious amount of irrigation was used again.  More lysis of adhesions were performed and decision to make a loop transverse colostomy was made to protect the anastomosis in a phase of a severe inflammatory process in the pelvis in the infected area.  The incision was performed in the right upper quadrant.\\n\\nThis incision was performed with cutting in the cautery, down into the fascia splitting the muscle and then the Penrose was passed under transverse colon, and was grasped on pulling the transverse colon at the level of the skin.  The wire was passed under the transverse colon.  It was left in place.  Moderate irrigation was used in the peritoneal cavity and in the right lower quadrant, a JP was placed in the pelvis posteriorly to the abscess cavity that was down on the pelvis.  At this point, immediately, yellow fluid was removed from the peritoneal cavity and the abdomen was closed with cephalad to caudad and caudad to cephalad with a loop PDS suture and then tied.  Electrocautery for hemostasis and the subcutaneous tissue.  Copious amount of irrigation was used.  The skin was approximated with staples.  At this point, immediately, the wound was covered with a moist towel and decision to mature the loop colostomy was made.  The colostomy was opened longitudinally and then matured with interrupted #3-0 Vicryl suture through the skin edge.  One it was completely matured, immediately the index finger was probed proximally and distally and both loops were completely opened.  As previously mentioned, the Penrose was removed and the Bard was secured with a #3-0 nylon suture.  The JP was secured with #3-0 nylon suture as well.  At this point, dressings were applied.  The patient tolerated the procedure well.  The stent from the left ureter was removed and the Foley was left in place.  The patient did tolerate the procedure well and will be followed up during the hospitalization.\\n\\n\\n\\n\\n\\n\\n\\n\"\n",
      "Label 0\n",
      "Review b'\\n\\n\\n\\n\\n<B>PREOPERATIVE DIAGNOSIS: </B> Morbid obesity.\\n\\n<B>POSTOPERATIVE DIAGNOSIS:  </B>Morbid obesity.\\n\\n<B>PROCEDURE: </B> Laparoscopic antecolic antegastric Roux-en-Y gastric bypass with EEA anastomosis.\\n\\n<B>ANESTHESIA: </B> General with endotracheal intubation.\\n\\n<B>INDICATION FOR PROCEDURE: </B> This is a 30-year-old female, who has been overweight for many years.  She has tried many different diets, but is unsuccessful.  She has been to our Bariatric Surgery Seminar, received some handouts, and signed the consent.  The risks and benefits of the procedure have been explained to the patient.\\n\\n<B>PROCEDURE IN DETAIL:  </B>The patient was taken to the operating room and placed supine on the operating room table.  All pressure points were carefully padded.  She was given general anesthesia with endotracheal intubation.  SCD stockings were placed on both legs.  Foley catheter was placed for bladder decompression.  The abdomen was then prepped and draped in standard sterile surgical fashion.  Marcaine was then injected through umbilicus.  A small incision was made.  A Veress needle was introduced into the abdomen.  CO2 insufflation was done to a maximum pressure of 15 mmHg.  A 12-mm VersaStep port was placed through the umbilicus.  I then placed a 5-mm port just anterior to the midaxillary line and just subcostal on the right side.  I placed another 5-mm port in the midclavicular line just subcostal on the right side, a few centimeters below and medial to that, I placed a 12-mm VersaStep port.  On the left side, just anterior to the midaxillary line and just subcostal, I placed a 5-mm port.  A few centimeters below and medial to that, I placed a 15-mm port.  I began by lifting up the omentum and identifying the transverse colon and lifting that up and thereby identifying my ligament of Treitz.  I ran the small bowel down approximately 40 cm and divided the small bowel with a white load GIA stapler.  I then divided the mesentery all the way down to the base of the mesentery with a LigaSure device.  I then ran the distal bowel down, approximately 100 cm, and at 100 cm, I made a hole at the antimesenteric portion of the Roux limb and a hole in the antimesenteric portion of the duodenogastric limb, and I passed a 45 white load stapler and fired a stapler creating a side-to-side anastomosis.  I reapproximated the edges of the defect.  I lifted it up and stapled across it with another white load stapler.  I then closed the mesenteric defect with interrupted Surgidac sutures.  I divided the omentum all the way down to the colon in order to create a passageway for my small bowel to go antecolic.  I then put the patient in reverse Trendelenburg.  I placed a liver retractor, identified, and dissected the angle of His.  I then dissected on the lesser curve, approximately 2.5 cm below the gastroesophageal junction, and got into a lesser space.  I fired transversely across the stomach with a 45 blue load stapler.  I then used two fires of the 60 blue load with SeamGuard to go up into my angle of His, thereby creating my gastric pouch.  I then made a hole at the base of the gastric pouch and had Anesthesia remove the bougie and place the OG tube connected to the anvil.  I pulled the anvil into place, and I then opened up my 15-mm port site and passed my EEA stapler.  I passed that in the end of my Roux limb and had the spike come out antimesenteric.  I joined the spike with the anvil and fired a stapler creating an end-to-side anastomosis, then divided across the redundant portion of my Roux limb with a white load GI stapler, and removed it with an Endocatch bag.  I put some additional 2-0 Vicryl sutures in the anastomosis for further security.  I then placed a bowel clamp across the bowel.  I went above and passed an EGD scope into the mouth down to the esophagus and into the gastric pouch.  I distended gastric pouch with air.  There was no air leak seen.  I could pass the scope easily through the anastomosis.  There was no bleeding seen through the scope.  We closed the 15-mm port site with interrupted 0 Vicryl suture utilizing Carter-Thomason.  I copiously irrigated out that incision with about 2 L of saline.  I then closed the skin of all incisions with running Monocryl.  Sponge, instrument, and needle counts were correct at the end of the case.  The patient tolerated the procedure well without any complications.\\n\\n\\n\\n\\n\\n\\n\\n'\n",
      "Label 0\n",
      "Review b'\\n\\n\\n\\n\\n<B>MEDICATIONS: </B> Plavix, atenolol, Lipitor, and folic acid.\\n\\n<B>CLINICAL HISTORY:  </B>This is a 41-year-old male patient who comes in with chest pain, had had a previous MI in 07/2003 and stents placement in 2003, who comes in for a stress myocardial perfusion scan.\\n\\nWith the patient at rest, 10.3 mCi of Cardiolite technetium-99 m sestamibi was injected and myocardial perfusion imaging was obtained.\\n\\n<B>PROCEDURE AND INTERPRETATION:  </B>The patient exercised for a total of 12 minutes on the standard Bruce protocol.  The peak workload was 12.8 METS.  The resting heart rate was 57 beats per minute and the peak heart rate was 123 beats per minute, which was 69% of the age-predicted maximum heart rate response.  The blood pressure response was normal with a resting blood pressure of 130/100 and a peak blood pressure of 158/90.  The test was stopped due to fatigue and leg pain.  EKG at rest showed normal sinus rhythm.  The peak stress EKG did not reveal any ischemic ST-T wave abnormalities.  There was ventricular bigeminy seen during exercise, but no sustained tachycardia was seen.  At peak, there was no chest pain noted.  The test was stopped due to fatigue and left pain.  At peak stress, the patient was injected with 30.3 mCi of Cardiolite technetium-99 m sestamibi and myocardial perfusion imaging was obtained, and was compared to resting myocardial perfusion imaging.\\n\\n<B>MYOCARDIAL PERFUSION IMAGING:</B>\\n1.  The overall quality of the scan was good.\\n2.  There was no diagnostic abnormality on the rest and stress myocardial perfusion imaging.\\n3.  The left ventricular cavity appeared normal in size.\\n4.  Gated SPECT images revealed mild septal hypokinesis and mild apical hypokinesis.  Overall left ventricular systolic function was low normal with calculated ejection fraction of 46% at rest.\\n\\n<B>CONCLUSIONS:</B>\\n1.  Good exercise tolerance.\\n2.  Less than adequate cardiac stress.  The patient was on beta-blocker therapy.\\n3.  No EKG evidence of stress induced ischemia.\\n4.  No chest pain with stress.\\n5.  Mild ventricular bigeminy with exercise.\\n6.  No diagnostic abnormality on the rest and stress myocardial perfusion imaging.\\n7.  Gated SPECT images revealed septal and apical hypokinesis with overall low normal left ventricular systolic function with calculated ejection fraction of 46% at rest.\\n\\n\\n\\n\\n\\n\\n\\n'\n",
      "Label 3\n"
     ]
    }
   ],
   "source": [
    "for text_batch, label_batch in raw_train_ds.take(1):\n",
    "    for i in range(3):\n",
    "        print(\"Review\", text_batch.numpy()[i])\n",
    "        print(\"Label\", label_batch.numpy()[i])"
   ]
  },
  {
   "cell_type": "code",
   "execution_count": 623,
   "metadata": {},
   "outputs": [
    {
     "name": "stdout",
     "output_type": "stream",
     "text": [
      "Label 0 corresponds to Gastroenterology\n",
      "Label 1 corresponds to Neurology\n",
      "Label 2 corresponds to Orthopedic\n",
      "Label 3 corresponds to Radiology\n",
      "Label 4 corresponds to Urology\n"
     ]
    }
   ],
   "source": [
    "for i in range(len(raw_train_ds.class_names)):\n",
    "    print(\"Label {} corresponds to\".format(i), raw_train_ds.class_names[i])"
   ]
  },
  {
   "cell_type": "code",
   "execution_count": 624,
   "metadata": {},
   "outputs": [
    {
     "name": "stdout",
     "output_type": "stream",
     "text": [
      "Found 826 files belonging to 5 classes.\n",
      "Using 165 files for validation.\n"
     ]
    }
   ],
   "source": [
    "# VALIDATION\n",
    "raw_val_ds = tf.keras.preprocessing.text_dataset_from_directory(\n",
    "    raw_data, \n",
    "    batch_size=batch_size, \n",
    "    validation_split=0.2, \n",
    "    subset='validation', \n",
    "    seed=seed)"
   ]
  },
  {
   "cell_type": "code",
   "execution_count": 625,
   "metadata": {},
   "outputs": [
    {
     "name": "stdout",
     "output_type": "stream",
     "text": [
      "Found 826 files belonging to 5 classes.\n"
     ]
    }
   ],
   "source": [
    "# TEST\n",
    "raw_test_ds = tf.keras.preprocessing.text_dataset_from_directory(\n",
    "    test_data, \n",
    "    batch_size=batch_size)"
   ]
  },
  {
   "cell_type": "code",
   "execution_count": 626,
   "metadata": {},
   "outputs": [],
   "source": [
    "# remove html tags\n",
    "def custom_standardization(input_data):\n",
    "    lowercase = tf.strings.lower(input_data)\n",
    "    stripped_html = tf.strings.regex_replace(lowercase, '<br />', ' ')\n",
    "    stripped_html = tf.strings.regex_replace(stripped_html, '\\n', ' ')\n",
    "    stripped_html = tf.strings.regex_replace(stripped_html, '</B>', ' ')\n",
    "    stripped_html = tf.strings.regex_replace(stripped_html, '<B>', ' ')\n",
    "    stripped_html = tf.strings.unicode_transcode(stripped_html, \"UTF-8\", \"UTF-8\")\n",
    "    return tf.strings.regex_replace(stripped_html,\n",
    "                                  '[%s]' % re.escape(string.punctuation),\n",
    "                                  '')"
   ]
  },
  {
   "cell_type": "code",
   "execution_count": 603,
   "metadata": {},
   "outputs": [],
   "source": [
    "max_features = 100000\n",
    "sequence_length = 250\n",
    "\n",
    "vectorize_layer = TextVectorization(\n",
    "    standardize=custom_standardization,\n",
    "    max_tokens=max_features,\n",
    "    output_mode='int',\n",
    "    output_sequence_length=sequence_length)"
   ]
  },
  {
   "cell_type": "code",
   "execution_count": 604,
   "metadata": {},
   "outputs": [],
   "source": [
    "# Make a text-only dataset (without labels), then call adapt\n",
    "train_text = raw_train_ds.map(lambda x, y: x)\n",
    "vectorize_layer.adapt(train_text)"
   ]
  },
  {
   "cell_type": "code",
   "execution_count": 605,
   "metadata": {},
   "outputs": [],
   "source": [
    "def vectorize_text(text, label):\n",
    "    text = tf.expand_dims(text, -1)\n",
    "    return vectorize_layer(text), label"
   ]
  },
  {
   "cell_type": "code",
   "execution_count": 606,
   "metadata": {},
   "outputs": [
    {
     "name": "stdout",
     "output_type": "stream",
     "text": [
      "Review tf.Tensor(b'\\n\\n\\n\\n\\n<B>CC:</B> Sudden onset blindness.\\n\\n<B>HX:</B> This 58 y/o RHF was in her usual healthy state, until 4:00PM, 1/8/93, when she suddenly became blind. Tongue numbness and slurred speech occurred simultaneously with the loss of vision. The vision transiently improved to &quot;severe blurring&quot; enroute to a local ER, but worsened again once there. While being evaluated she became unresponsive, even to deep noxious stimuli. She was transferred to UIHC for further evaluation. Upon arrival at UIHC her signs and symptoms were present but markedly improved.\\n\\n<B>PMH:</B> 1) Hysterectomy many years previous. 2) Herniorrhaphy in past. 3) DJD, relieved with NSAIDs.\\n\\n<B>FHX/SHX:</B> Married x 27yrs. Husband denied Tobacco/ETOH/illicit drug use for her.\\n\\nUnremarkable FHx.\\n\\n<B>MEDS:</B> none.\\n\\n<B>EXAM:</B> Vitals: 36.9C.  HR 93.  BP 151/93.  RR 22.  98% O2Sat.\\n\\nMS: somnolent, but arousable to verbal stimulation. minimal speech. followed simple commands on occasion.\\n\\nCN: Blinked to threat from all directions. EOM appeared full, Pupils 2/2 decreasing to 1/1. +/+Corneas. Winced to PP in all areas of Face. +/+Gag. Tongue midline. Oculocephalic reflex intact.\\n\\nMotor: UE 4/5 proximally. Full strength in all other areas. Normal tone and muscle bulk.\\n\\nSensory: Withdrew to PP in all extremities.\\n\\nGait: ND.\\n\\nReflexes: 2+/2+ throughout UE, 3/3 patella, 2/2 ankles, Plantar responses were flexor bilaterally.\\n\\nGen exam: unremarkable.\\n\\n<B>COURSE: </B>MRI Brain revealed bilateral thalamic strokes. Transthoracic echocardiogram (TTE) showed an intraatrial septal aneurysm with right to left shunt. Transesophageal echocardiogram (TEE) revealed the same. No intracardiac thrombus was found. Lower extremity dopplers were unremarkable. Carotid duplex revealed 0-15% bilateral ICA stenosis. Neuroophthalmologic evaluation revealed evidence of a supranuclear vertical gaze palsy OU (diminished up and down gaze). Neuropsychologic assessment 1/12-15/93 revealed severe impairment of anterograde verbal and visual memory, including acquisition and delayed recall and recognition. Speech was effortful and hypophonic with very defective verbal associative fluency. Reading comprehension was somewhat preserved, though she complained that despite the ability to see type clearly, she could not make sense of words. There was impairment of 2-D constructional praxis. A follow-up Neuropsychology evaluation in 7/93 revealed little improvement. Laboratory studies, TSH, FT4, CRP, ESR, GS, PT/PTT were unremarkable. Total serum cholesterol 195, Triglycerides 57, HDL 43, LDL 141. She was placed on ASA and discharged1/19/93.\\n\\nShe was last seen on 5/2/95 and was speaking fluently and lucidly. She continued to have mild decreased vertical eye movements. Coordination and strength testing were fairly unremarkable. She continues to take ASA 325 mg qd.\\n\\n\\n\\n\\n\\n\\n\\n', shape=(), dtype=string)\n",
      "Label Radiology\n",
      "Vectorized review (<tf.Tensor: shape=(1, 250), dtype=int64, numpy=\n",
      "array([[ 796, 1806,  976, 2264, 1089,   20, 3062,  862, 1241,    4,    9,\n",
      "          28,  301, 1103, 1070,  492, 9633, 6027,  178,   14, 2896,  948,\n",
      "        3758, 1118,  390,    3, 2744,  432, 1817, 5371,    8,    2,  172,\n",
      "           5,  498,    2,  498, 6129,  667,    6, 7856, 9258, 5020,    6,\n",
      "           7,  358, 1442,   51, 1339,  235,  188,   21,  459,  440,  560,\n",
      "          14,  948, 2387, 1399,    6,  359, 3153, 2741,   14,    4,  351,\n",
      "           6,  953,   15,  191,  139,  346, 3466,   18,  953,   28,  190,\n",
      "           3,  124,   12,  128,   51, 1632,  667,  894,   40, 2662, 1483,\n",
      "         200,  421,   41, 3654,    9,  286,   58, 4048, 2760,    8, 6436,\n",
      "        5911, 1129,   75, 9704, 1214,  426, 2595,  521,  230,   15,   28,\n",
      "          77, 6721,  989,  194,  632, 2878, 7143, 2142, 7109, 1014, 9803,\n",
      "        2189,  501, 2168, 4352,  291, 3093,   51, 5159,    6,  607,  691,\n",
      "         271,  432,  452,  954, 2836,   13, 5502,  513, 9265,    6, 5292,\n",
      "          38,   62, 4051, 1771,  341,  295,  708,  501, 1778,    6,  669,\n",
      "        5821, 7269,    6, 1943,    9,   62,  619,    5,  942, 2815, 1118,\n",
      "         320, 5501, 1353,  115,  185, 4186,  544,  568,  295,  273,    9,\n",
      "          62,  153,  619,   29,  564,    3,  176, 1088,  254, 2715,    6,\n",
      "        1943,    9,   62,  146,  299, 2527,  347,  501,  192, 4186,  950,\n",
      "         718,  501, 1603,  329,  665,   12,  504,  101,  981,  112,   77,\n",
      "        1987, 3454,  241,  122,  155, 6159, 2901, 2001, 1219, 7401,  166,\n",
      "          35, 8407, 3098,  815,    8,   23,    6,   24, 1932, 2281, 1219,\n",
      "        7501,  122,    2,  547,   16, 3997, 2732,    4,  205,   79,  141,\n",
      "        6789,   12,   77,  251, 1841,  122, 3814,  155]])>, <tf.Tensor: shape=(), dtype=int32, numpy=3>)\n"
     ]
    }
   ],
   "source": [
    "# retrieve a batch (of 32 reviews and labels) from the dataset\n",
    "text_batch, label_batch = next(iter(raw_train_ds))\n",
    "first_review, first_label = text_batch[0], label_batch[0]\n",
    "print(\"Review\", first_review)\n",
    "print(\"Label\", raw_train_ds.class_names[first_label])\n",
    "print(\"Vectorized review\", vectorize_text(first_review, first_label))"
   ]
  },
  {
   "cell_type": "code",
   "execution_count": 607,
   "metadata": {},
   "outputs": [
    {
     "name": "stdout",
     "output_type": "stream",
     "text": [
      "1287 --->  bpreoperative\n",
      " 313 --->  condition\n",
      "Vocabulary size: 15475\n"
     ]
    }
   ],
   "source": [
    "print(\"1287 ---> \",vectorize_layer.get_vocabulary()[163])\n",
    "print(\" 313 ---> \",vectorize_layer.get_vocabulary()[193])\n",
    "print('Vocabulary size: {}'.format(len(vectorize_layer.get_vocabulary())))"
   ]
  },
  {
   "cell_type": "code",
   "execution_count": 608,
   "metadata": {},
   "outputs": [
    {
     "data": {
      "text/plain": [
       "'\\n\\n\\n\\n\\n<B>PREOPERATIVE DIAGNOSIS: '"
      ]
     },
     "execution_count": 608,
     "metadata": {},
     "output_type": "execute_result"
    }
   ],
   "source": [
    "# testing replace\n",
    "eagertensor = tf.strings.regex_replace(\"\\n\\n\\n\\n\\n<B>PREOPERATIVE DIAGNOSIS: </B>\",\"</B>\", \"\")\n",
    "result = eagertensor.numpy()\n",
    "result.decode('utf-8')"
   ]
  },
  {
   "cell_type": "code",
   "execution_count": 637,
   "metadata": {},
   "outputs": [],
   "source": [
    "train_ds = raw_train_ds.map(vectorize_text)\n",
    "val_ds = raw_val_ds.map(vectorize_text)\n",
    "test_ds = raw_test_ds.map(vectorize_text)"
   ]
  },
  {
   "cell_type": "code",
   "execution_count": 638,
   "metadata": {},
   "outputs": [],
   "source": [
    "AUTOTUNE = tf.data.experimental.AUTOTUNE\n",
    "\n",
    "train_ds = train_ds.cache().prefetch(buffer_size=AUTOTUNE)\n",
    "val_ds = val_ds.cache().prefetch(buffer_size=AUTOTUNE)\n",
    "test_ds = test_ds.cache().prefetch(buffer_size=AUTOTUNE)"
   ]
  },
  {
   "cell_type": "code",
   "execution_count": 657,
   "metadata": {},
   "outputs": [],
   "source": [
    "embedding_dim = 64"
   ]
  },
  {
   "cell_type": "code",
   "execution_count": 658,
   "metadata": {},
   "outputs": [
    {
     "name": "stdout",
     "output_type": "stream",
     "text": [
      "Model: \"sequential_14\"\n",
      "_________________________________________________________________\n",
      "Layer (type)                 Output Shape              Param #   \n",
      "=================================================================\n",
      "embedding_14 (Embedding)     (None, None, 64)          6400064   \n",
      "_________________________________________________________________\n",
      "dropout_28 (Dropout)         (None, None, 64)          0         \n",
      "_________________________________________________________________\n",
      "global_average_pooling1d_14  (None, 64)                0         \n",
      "_________________________________________________________________\n",
      "dropout_29 (Dropout)         (None, 64)                0         \n",
      "_________________________________________________________________\n",
      "dense_14 (Dense)             (None, 5)                 325       \n",
      "=================================================================\n",
      "Total params: 6,400,389\n",
      "Trainable params: 6,400,389\n",
      "Non-trainable params: 0\n",
      "_________________________________________________________________\n"
     ]
    }
   ],
   "source": [
    "model = tf.keras.Sequential([\n",
    "  layers.Embedding(max_features + 1, embedding_dim),\n",
    "  layers.Dropout(0.2),\n",
    "  layers.GlobalAveragePooling1D(),\n",
    "  layers.Dropout(0.2),\n",
    "  layers.Dense(5)])\n",
    "\n",
    "model.summary()"
   ]
  },
  {
   "cell_type": "code",
   "execution_count": 660,
   "metadata": {},
   "outputs": [],
   "source": [
    "loss = losses.SparseCategoricalCrossentropy()\n",
    "#loss = losses.BinaryCrossentropy\n",
    "#losses.BinaryCrossentropy(from_logits=True)\n",
    "model.compile(loss=loss,\n",
    "              optimizer='adam',\n",
    "              metrics='accuracy')"
   ]
  },
  {
   "cell_type": "code",
   "execution_count": 661,
   "metadata": {
    "scrolled": false
   },
   "outputs": [
    {
     "name": "stdout",
     "output_type": "stream",
     "text": [
      "Epoch 1/10\n",
      "83/83 [==============================] - 4s 53ms/step - loss: 2.2174 - accuracy: 0.4811 - val_loss: 1.1209 - val_accuracy: 0.6242\n",
      "Epoch 2/10\n",
      "83/83 [==============================] - 3s 40ms/step - loss: 0.8072 - accuracy: 0.7504 - val_loss: 1.4092 - val_accuracy: 0.7152\n",
      "Epoch 3/10\n",
      "83/83 [==============================] - 4s 45ms/step - loss: 0.8031 - accuracy: 0.7912 - val_loss: 1.6686 - val_accuracy: 0.7030\n",
      "Epoch 4/10\n",
      "83/83 [==============================] - 4s 44ms/step - loss: 0.6129 - accuracy: 0.8079 - val_loss: 1.9723 - val_accuracy: 0.6545\n",
      "Epoch 5/10\n",
      "83/83 [==============================] - 4s 45ms/step - loss: 0.6237 - accuracy: 0.8366 - val_loss: 1.9920 - val_accuracy: 0.6788\n",
      "Epoch 6/10\n",
      "83/83 [==============================] - 4s 45ms/step - loss: 0.6144 - accuracy: 0.8396 - val_loss: 2.5268 - val_accuracy: 0.6364\n",
      "Epoch 7/10\n",
      "83/83 [==============================] - 4s 45ms/step - loss: 1.0444 - accuracy: 0.7413 - val_loss: 1.7860 - val_accuracy: 0.5515\n",
      "Epoch 8/10\n",
      "83/83 [==============================] - 4s 45ms/step - loss: 0.7071 - accuracy: 0.8109 - val_loss: 1.4883 - val_accuracy: 0.6848\n",
      "Epoch 9/10\n",
      "83/83 [==============================] - 4s 44ms/step - loss: 0.4949 - accuracy: 0.8669 - val_loss: 2.4917 - val_accuracy: 0.6606\n",
      "Epoch 10/10\n",
      "83/83 [==============================] - 3s 38ms/step - loss: 0.6176 - accuracy: 0.8245 - val_loss: 1.8976 - val_accuracy: 0.6485\n"
     ]
    }
   ],
   "source": [
    "epochs = 10\n",
    "history = model.fit(\n",
    "    train_ds,\n",
    "    validation_data=val_ds,\n",
    "    epochs=epochs)"
   ]
  },
  {
   "cell_type": "code",
   "execution_count": 662,
   "metadata": {},
   "outputs": [
    {
     "name": "stdout",
     "output_type": "stream",
     "text": [
      "104/104 [==============================] - 0s 1ms/step - loss: 0.6536 - accuracy: 0.8414\n",
      "Loss:  0.6536284685134888\n",
      "Accuracy:  0.841404378414154\n"
     ]
    }
   ],
   "source": [
    "loss, accuracy = model.evaluate(test_ds)\n",
    "print(\"Loss: \", loss)\n",
    "print(\"Accuracy: \", accuracy)"
   ]
  },
  {
   "cell_type": "code",
   "execution_count": 663,
   "metadata": {},
   "outputs": [
    {
     "data": {
      "text/plain": [
       "dict_keys(['loss', 'accuracy', 'val_loss', 'val_accuracy'])"
      ]
     },
     "execution_count": 663,
     "metadata": {},
     "output_type": "execute_result"
    }
   ],
   "source": [
    "history_dict = history.history\n",
    "history_dict.keys()"
   ]
  },
  {
   "cell_type": "code",
   "execution_count": 664,
   "metadata": {},
   "outputs": [
    {
     "data": {
      "image/png": "[encoded data removed]",
      "text/plain": [
       "<Figure size 432x288 with 1 Axes>"
      ]
     },
     "metadata": {
      "needs_background": "light"
     },
     "output_type": "display_data"
    }
   ],
   "source": [
    "acc = history_dict['accuracy']\n",
    "val_acc = history_dict['val_accuracy']\n",
    "loss = history_dict['loss']\n",
    "val_loss = history_dict['val_loss']\n",
    "\n",
    "epochs = range(1, len(acc) + 1)\n",
    "\n",
    "# \"bo\" is for \"blue dot\"\n",
    "plt.plot(epochs, loss, 'bo', label='Training loss')\n",
    "# b is for \"solid blue line\"\n",
    "plt.plot(epochs, val_loss, 'b', label='Validation loss')\n",
    "plt.title('Training and validation loss')\n",
    "plt.xlabel('Epochs')\n",
    "plt.ylabel('Loss')\n",
    "plt.legend()\n",
    "\n",
    "plt.show()"
   ]
  },
  {
   "cell_type": "code",
   "execution_count": 665,
   "metadata": {},
   "outputs": [
    {
     "data": {
      "image/png": "[encoded data removed]",
      "text/plain": [
       "<Figure size 432x288 with 1 Axes>"
      ]
     },
     "metadata": {
      "needs_background": "light"
     },
     "output_type": "display_data"
    }
   ],
   "source": [
    "plt.plot(epochs, acc, 'bo', label='Training acc')\n",
    "plt.plot(epochs, val_acc, 'b', label='Validation acc')\n",
    "plt.title('Training and validation accuracy')\n",
    "plt.xlabel('Epochs')\n",
    "plt.ylabel('Accuracy')\n",
    "plt.legend(loc='lower right')\n",
    "\n",
    "plt.show()"
   ]
  },
  {
   "cell_type": "code",
   "execution_count": null,
   "metadata": {},
   "outputs": [],
   "source": []
  }
 ],
 "metadata": {
  "kernelspec": {
   "display_name": "Python 3",
   "language": "python",
   "name": "python3"
  },
  "language_info": {
   "codemirror_mode": {
    "name": "ipython",
    "version": 3
   },
   "file_extension": ".py",
   "mimetype": "text/x-python",
   "name": "python",
   "nbconvert_exporter": "python",
   "pygments_lexer": "ipython3",
   "version": "3.8.5"
  }
 },
 "nbformat": 4,
 "nbformat_minor": 4
}
